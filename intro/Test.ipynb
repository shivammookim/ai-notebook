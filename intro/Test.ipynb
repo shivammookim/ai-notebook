{
  "nbformat": 4,
  "nbformat_minor": 0,
  "metadata": {
    "colab": {
      "provenance": [],
      "authorship_tag": "ABX9TyOFuXagBidit5Wy2UdAfMzx",
      "include_colab_link": true
    },
    "kernelspec": {
      "name": "python3",
      "display_name": "Python 3"
    },
    "language_info": {
      "name": "python"
    }
  },
  "cells": [
    {
      "cell_type": "markdown",
      "metadata": {
        "id": "view-in-github",
        "colab_type": "text"
      },
      "source": [
        "<a href=\"https://colab.research.google.com/github/shivammookim/ai-notebook/blob/develop/intro/Test.ipynb\" target=\"_parent\"><img src=\"https://colab.research.google.com/assets/colab-badge.svg\" alt=\"Open In Colab\"/></a>"
      ]
    },
    {
      "cell_type": "markdown",
      "source": [
        "# **Intro**"
      ],
      "metadata": {
        "id": "YjZBqDAzfTqF"
      }
    },
    {
      "cell_type": "code",
      "execution_count": null,
      "metadata": {
        "colab": {
          "base_uri": "https://localhost:8080/"
        },
        "id": "OeX1-gs9GOG8",
        "outputId": "1b1c628e-158c-4969-c664-abf5d768496e"
      },
      "outputs": [
        {
          "output_type": "stream",
          "name": "stdout",
          "text": [
            "Hello there...\n"
          ]
        }
      ],
      "source": [
        "print(\"Hello there...\")"
      ]
    },
    {
      "cell_type": "markdown",
      "source": [
        "# **Number Swap Code**"
      ],
      "metadata": {
        "id": "OFfPjAevPF2Z"
      }
    },
    {
      "cell_type": "code",
      "source": [
        "a = 10\n",
        "b = 20\n",
        "print(\"Before:\")\n",
        "print(\"a:\", a)\n",
        "print(\"b:\", b)\n",
        "a = a + b\n",
        "b = a - b\n",
        "a = a - b\n",
        "print(\"After:\")\n",
        "print(\"a:\", a)\n",
        "print(\"b:\", b)"
      ],
      "metadata": {
        "colab": {
          "base_uri": "https://localhost:8080/"
        },
        "id": "hkNsfw4mGWtK",
        "outputId": "5d2fcf1c-f3ce-4a40-c7f1-9dc8e4ef39b7"
      },
      "execution_count": null,
      "outputs": [
        {
          "output_type": "stream",
          "name": "stdout",
          "text": [
            "Before:\n",
            "a: 10\n",
            "b: 20\n",
            "After:\n",
            "a: 20\n",
            "b: 10\n"
          ]
        }
      ]
    },
    {
      "cell_type": "markdown",
      "source": [
        "# **Pandas Example**"
      ],
      "metadata": {
        "id": "VAqHbeyPOiGp"
      }
    },
    {
      "cell_type": "code",
      "source": [
        "import pandas as pd\n",
        "myList = [100, 200, 300, 400, 500]\n",
        "series = pd.Series(myList)\n",
        "print(\"Series:\")\n",
        "print(series)"
      ],
      "metadata": {
        "colab": {
          "base_uri": "https://localhost:8080/"
        },
        "id": "vZ1JqHHYKFj7",
        "outputId": "aee1efc8-76d3-4201-a22b-aae0cb52dfdb"
      },
      "execution_count": null,
      "outputs": [
        {
          "output_type": "stream",
          "name": "stdout",
          "text": [
            "Series:\n",
            "0    100\n",
            "1    200\n",
            "2    300\n",
            "3    400\n",
            "4    500\n",
            "dtype: int64\n"
          ]
        }
      ]
    },
    {
      "cell_type": "markdown",
      "source": [
        "# **Numpy Eaxample**"
      ],
      "metadata": {
        "id": "zCfmpVPxO1si"
      }
    },
    {
      "cell_type": "code",
      "source": [
        "import numpy as np\n",
        "arr = np.array((1,2,3))\n",
        "print(\"Array:\", arr)\n",
        "print(type(arr))"
      ],
      "metadata": {
        "colab": {
          "base_uri": "https://localhost:8080/"
        },
        "id": "B8P6APvtMRcq",
        "outputId": "98ed2d27-9841-4506-f874-ace5f3e4f2f6"
      },
      "execution_count": null,
      "outputs": [
        {
          "output_type": "stream",
          "name": "stdout",
          "text": [
            "Array: [1 2 3]\n",
            "<class 'numpy.ndarray'>\n"
          ]
        }
      ]
    },
    {
      "cell_type": "markdown",
      "source": [
        "# **MatplotLib Example**"
      ],
      "metadata": {
        "id": "Tf3v-i0AOQAI"
      }
    },
    {
      "cell_type": "code",
      "source": [
        "import matplotlib.pyplot as plt\n",
        "import numpy as np\n",
        "\n",
        "xpts = np.array([2, 4, 6, 8, 10])\n",
        "ypts = np.array([10, 20, 15, 10, 20])\n",
        "\n",
        "plt.plot(xpts, ypts)\n",
        "plt.show()"
      ],
      "metadata": {
        "colab": {
          "base_uri": "https://localhost:8080/",
          "height": 430
        },
        "id": "Hdp8WZ__M35j",
        "outputId": "8bb93d39-ae27-4d4f-f70a-96580e8af896"
      },
      "execution_count": null,
      "outputs": [
        {
          "output_type": "display_data",
          "data": {
            "text/plain": [
              "<Figure size 640x480 with 1 Axes>"
            ],
            "image/png": "[encoded data removed]"
          },
          "metadata": {}
        }
      ]
    }
  ]
}